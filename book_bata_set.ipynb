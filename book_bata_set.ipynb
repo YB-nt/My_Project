{
  "nbformat": 4,
  "nbformat_minor": 0,
  "metadata": {
    "colab": {
      "name": "book_bata_set.ipynb",
      "provenance": [],
      "collapsed_sections": [
        "tBSKa_CY2zZR",
        "0dNHr4ko7A_6",
        "l6hrZ6_DOQ9A",
        "ht84jKGoODB6",
        "tbGAB9_AMuxw",
        "wiX_T2d-QAKh"
      ],
      "authorship_tag": "ABX9TyMdktbgPo4IP42xPltXODx6",
      "include_colab_link": true
    },
    "kernelspec": {
      "name": "python3",
      "display_name": "Python 3"
    },
    "language_info": {
      "name": "python"
    }
  },
  "cells": [
    {
      "cell_type": "markdown",
      "metadata": {
        "id": "view-in-github",
        "colab_type": "text"
      },
      "source": [
        "<a href=\"https://colab.research.google.com/github/YB-nt/section_projects/blob/main/book_bata_set.ipynb\" target=\"_parent\"><img src=\"https://colab.research.google.com/assets/colab-badge.svg\" alt=\"Open In Colab\"/></a>"
      ]
    },
    {
      "cell_type": "markdown",
      "metadata": {
        "id": "tBSKa_CY2zZR"
      },
      "source": [
        "\n",
        "# install module"
      ]
    },
    {
      "cell_type": "code",
      "metadata": {
        "id": "DRYADxSu2zMS"
      },
      "source": [
        "%%capture\n",
        "import sys\n",
        "import pandas as pd\n",
        "\n",
        "if 'google.colab' in sys.modules:\n",
        "    # Install packages in Colab\n",
        "    !pip install category_encoders==2.*\n",
        "    !pip install eli5\n",
        "    !pip install pandas-profiling==2.*\n",
        "    !pip install pdpbox\n",
        "    !pip install shap\n",
        "    !pip install tqdm\n",
        "\n",
        "# pandas 출력할떄 생략 없애기\n",
        "pd.set_option('display.max_seq_items', None)"
      ],
      "execution_count": 1,
      "outputs": []
    },
    {
      "cell_type": "code",
      "metadata": {
        "id": "w4mr7E6J2dHL",
        "colab": {
          "base_uri": "https://localhost:8080/"
        },
        "outputId": "99d4be27-2f5d-49f0-938e-c7b7de4abb3f"
      },
      "source": [
        "from google.colab import drive\n",
        "drive.mount('/content/drive')"
      ],
      "execution_count": 3,
      "outputs": [
        {
          "output_type": "stream",
          "name": "stdout",
          "text": [
            "Mounted at /content/drive\n"
          ]
        }
      ]
    },
    {
      "cell_type": "markdown",
      "metadata": {
        "id": "0dNHr4ko7A_6"
      },
      "source": [
        "#파일 불러오기"
      ]
    },
    {
      "cell_type": "code",
      "metadata": {
        "colab": {
          "base_uri": "https://localhost:8080/"
        },
        "id": "5owJ4DW32gcg",
        "outputId": "8cb75027-c2b9-403f-d68f-c9e45873ccf8"
      },
      "source": [
        "\n",
        "rating =pd.read_csv('/content/drive/MyDrive/bootcamp/Data set/도서데이터/BX-CSV-Dump/BX-Book-Ratings.csv' ,\n",
        "                    delimiter=\";\",\n",
        "                    header=0,\n",
        "                    usecols =['User-ID','ISBN','Book-Rating'],\n",
        "                    encoding= 'unicode_escape')\n",
        "\n",
        "user_data=pd.read_csv('/content/drive/MyDrive/bootcamp/Data set/도서데이터/BX-CSV-Dump/BX-Users.csv' ,\n",
        "                 delimiter=\";\",\n",
        "                 header=0,\n",
        "                 usecols=['User-ID','Location','Age'],\n",
        "                 encoding= 'unicode_escape')\n",
        "\n",
        "book_info = pd.read_csv('/content/drive/MyDrive/bootcamp/Data set/도서데이터/BX-CSV-Dump/BX-Books.csv' ,\n",
        "                        delimiter=\";\",\n",
        "                        header=0,\n",
        "                        encoding= 'unicode_escape',\n",
        "                        usecols=['ISBN', 'Book-Title','Book-Author','Year-Of-Publication','Publisher'])\n",
        "                        # usecols=['ISBN', 'Book-Title','Book-Author','Year-Of-Publication','Publisher'])\n",
        "\n",
        "rating.shape,user_data.shape,book_info.shape"
      ],
      "execution_count": 89,
      "outputs": [
        {
          "output_type": "stream",
          "name": "stderr",
          "text": [
            "/usr/local/lib/python3.7/dist-packages/IPython/core/interactiveshell.py:2718: DtypeWarning: Columns (3) have mixed types.Specify dtype option on import or set low_memory=False.\n",
            "  interactivity=interactivity, compiler=compiler, result=result)\n"
          ]
        },
        {
          "output_type": "execute_result",
          "data": {
            "text/plain": [
              "((1149780, 3), (278858, 3), (271379, 5))"
            ]
          },
          "metadata": {},
          "execution_count": 89
        }
      ]
    },
    {
      "cell_type": "code",
      "metadata": {
        "colab": {
          "base_uri": "https://localhost:8080/"
        },
        "id": "jTd7DQogGinf",
        "outputId": "466e65a8-e770-4627-f53b-bb823c509881"
      },
      "source": [
        "rating.rename(columns = {'Book-Rating' : 'Book_Rating',\n",
        "                         'User-ID':'User_ID'},inplace = True)\n",
        "user_data.rename(columns = {'User-ID':'User_ID',},inplace = True)\n",
        "\n",
        "book_info.rename(columns = {'Book-Title' : 'Book_Title',\n",
        "                            'Book-Author':'Book_Author',\n",
        "                            'Year-Of-Publication':'Year_Of_Publication'},inplace = True)\n",
        "rating.columns,user_data.columns,book_info.columns"
      ],
      "execution_count": 90,
      "outputs": [
        {
          "output_type": "execute_result",
          "data": {
            "text/plain": [
              "(Index(['User_ID', 'ISBN', 'Book_Rating'], dtype='object'),\n",
              " Index(['User_ID', 'Location', 'Age'], dtype='object'),\n",
              " Index(['ISBN', 'Book_Title', 'Book_Author', 'Year_Of_Publication',\n",
              "        'Publisher'],\n",
              "       dtype='object'))"
            ]
          },
          "metadata": {},
          "execution_count": 90
        }
      ]
    },
    {
      "cell_type": "markdown",
      "metadata": {
        "id": "38tMGf2V2y9y"
      },
      "source": [
        "#EDA"
      ]
    },
    {
      "cell_type": "markdown",
      "metadata": {
        "id": "l6hrZ6_DOQ9A"
      },
      "source": [
        "## 데이터 살펴보기"
      ]
    },
    {
      "cell_type": "code",
      "metadata": {
        "colab": {
          "base_uri": "https://localhost:8080/"
        },
        "id": "gb9jgbRG2gaD",
        "outputId": "d9b9dc4a-7d9c-41b6-b38a-f2d4940bdfb9"
      },
      "source": [
        "rating.isna().sum()"
      ],
      "execution_count": 9,
      "outputs": [
        {
          "output_type": "execute_result",
          "data": {
            "text/plain": [
              "User_ID        0\n",
              "ISBN           0\n",
              "Book_Rating    0\n",
              "dtype: int64"
            ]
          },
          "metadata": {},
          "execution_count": 9
        }
      ]
    },
    {
      "cell_type": "code",
      "metadata": {
        "colab": {
          "base_uri": "https://localhost:8080/"
        },
        "id": "vcNJgLb4VnjC",
        "outputId": "4a3fa771-6da3-49ed-d091-8792dd2a403a"
      },
      "source": [
        "user_data.isna().sum()"
      ],
      "execution_count": 10,
      "outputs": [
        {
          "output_type": "execute_result",
          "data": {
            "text/plain": [
              "User_ID          0\n",
              "Location         0\n",
              "Age         110762\n",
              "dtype: int64"
            ]
          },
          "metadata": {},
          "execution_count": 10
        }
      ]
    },
    {
      "cell_type": "code",
      "metadata": {
        "colab": {
          "base_uri": "https://localhost:8080/"
        },
        "id": "Mbx12BLhVncR",
        "outputId": "4ae1ca15-5e3f-4dac-f45d-cf01a0d95d97"
      },
      "source": [
        "book_info.isna().sum()"
      ],
      "execution_count": 11,
      "outputs": [
        {
          "output_type": "execute_result",
          "data": {
            "text/plain": [
              "ISBN                   0\n",
              "Book_Title             0\n",
              "Book_Author            1\n",
              "Year_Of_Publication    0\n",
              "Publisher              2\n",
              "dtype: int64"
            ]
          },
          "metadata": {},
          "execution_count": 11
        }
      ]
    },
    {
      "cell_type": "code",
      "metadata": {
        "id": "4U0713pb2gUy"
      },
      "source": [
        "book_info=book_info.fillna('unknown')"
      ],
      "execution_count": 91,
      "outputs": []
    },
    {
      "cell_type": "code",
      "metadata": {
        "colab": {
          "base_uri": "https://localhost:8080/"
        },
        "id": "C9JTfVuc2gSQ",
        "outputId": "a8076ca0-9b13-4474-d8fb-6f9d7cf1f99e"
      },
      "source": [
        "book_info.shape,rating.shape,user_data.shape"
      ],
      "execution_count": 92,
      "outputs": [
        {
          "output_type": "execute_result",
          "data": {
            "text/plain": [
              "((271379, 5), (1149780, 3), (278858, 3))"
            ]
          },
          "metadata": {},
          "execution_count": 92
        }
      ]
    },
    {
      "cell_type": "code",
      "metadata": {
        "id": "2zII_jc32gPZ"
      },
      "source": [
        "from pandas_profiling import ProfileReport\n",
        "\n",
        "profile = ProfileReport(book_info, minimal=True).to_notebook_iframe()"
      ],
      "execution_count": null,
      "outputs": []
    },
    {
      "cell_type": "code",
      "metadata": {
        "id": "ewiE64PB2gM4"
      },
      "source": [
        "# book_info\n",
        "# rating\n",
        "# user_data"
      ],
      "execution_count": null,
      "outputs": []
    },
    {
      "cell_type": "code",
      "metadata": {
        "colab": {
          "base_uri": "https://localhost:8080/",
          "height": 0
        },
        "id": "lfWWsnIY6LQf",
        "outputId": "3fcab66d-3b62-4067-d2eb-7f22c7522898"
      },
      "source": [
        "rating.sort_values(by='Book_Rating',ascending=False)"
      ],
      "execution_count": 93,
      "outputs": [
        {
          "output_type": "execute_result",
          "data": {
            "text/html": [
              "<div>\n",
              "<style scoped>\n",
              "    .dataframe tbody tr th:only-of-type {\n",
              "        vertical-align: middle;\n",
              "    }\n",
              "\n",
              "    .dataframe tbody tr th {\n",
              "        vertical-align: top;\n",
              "    }\n",
              "\n",
              "    .dataframe thead th {\n",
              "        text-align: right;\n",
              "    }\n",
              "</style>\n",
              "<table border=\"1\" class=\"dataframe\">\n",
              "  <thead>\n",
              "    <tr style=\"text-align: right;\">\n",
              "      <th></th>\n",
              "      <th>User_ID</th>\n",
              "      <th>ISBN</th>\n",
              "      <th>Book_Rating</th>\n",
              "    </tr>\n",
              "  </thead>\n",
              "  <tbody>\n",
              "    <tr>\n",
              "      <th>714920</th>\n",
              "      <td>173291</td>\n",
              "      <td>0590460609</td>\n",
              "      <td>10</td>\n",
              "    </tr>\n",
              "    <tr>\n",
              "      <th>439695</th>\n",
              "      <td>105221</td>\n",
              "      <td>0590353403</td>\n",
              "      <td>10</td>\n",
              "    </tr>\n",
              "    <tr>\n",
              "      <th>439659</th>\n",
              "      <td>105214</td>\n",
              "      <td>1573220221</td>\n",
              "      <td>10</td>\n",
              "    </tr>\n",
              "    <tr>\n",
              "      <th>113491</th>\n",
              "      <td>26421</td>\n",
              "      <td>1558743669</td>\n",
              "      <td>10</td>\n",
              "    </tr>\n",
              "    <tr>\n",
              "      <th>439664</th>\n",
              "      <td>105221</td>\n",
              "      <td>0064407667</td>\n",
              "      <td>10</td>\n",
              "    </tr>\n",
              "    <tr>\n",
              "      <th>...</th>\n",
              "      <td>...</td>\n",
              "      <td>...</td>\n",
              "      <td>...</td>\n",
              "    </tr>\n",
              "    <tr>\n",
              "      <th>484342</th>\n",
              "      <td>115120</td>\n",
              "      <td>0671026852</td>\n",
              "      <td>0</td>\n",
              "    </tr>\n",
              "    <tr>\n",
              "      <th>484343</th>\n",
              "      <td>115120</td>\n",
              "      <td>0671026860</td>\n",
              "      <td>0</td>\n",
              "    </tr>\n",
              "    <tr>\n",
              "      <th>484344</th>\n",
              "      <td>115120</td>\n",
              "      <td>0671027514</td>\n",
              "      <td>0</td>\n",
              "    </tr>\n",
              "    <tr>\n",
              "      <th>484345</th>\n",
              "      <td>115120</td>\n",
              "      <td>0671027522</td>\n",
              "      <td>0</td>\n",
              "    </tr>\n",
              "    <tr>\n",
              "      <th>574890</th>\n",
              "      <td>138366</td>\n",
              "      <td>0373764391</td>\n",
              "      <td>0</td>\n",
              "    </tr>\n",
              "  </tbody>\n",
              "</table>\n",
              "<p>1149780 rows × 3 columns</p>\n",
              "</div>"
            ],
            "text/plain": [
              "        User_ID        ISBN  Book_Rating\n",
              "714920   173291  0590460609           10\n",
              "439695   105221  0590353403           10\n",
              "439659   105214  1573220221           10\n",
              "113491    26421  1558743669           10\n",
              "439664   105221  0064407667           10\n",
              "...         ...         ...          ...\n",
              "484342   115120  0671026852            0\n",
              "484343   115120  0671026860            0\n",
              "484344   115120  0671027514            0\n",
              "484345   115120  0671027522            0\n",
              "574890   138366  0373764391            0\n",
              "\n",
              "[1149780 rows x 3 columns]"
            ]
          },
          "metadata": {},
          "execution_count": 93
        }
      ]
    },
    {
      "cell_type": "code",
      "metadata": {
        "id": "WASCM078B2u8"
      },
      "source": [
        "from tqdm import tqdm\n",
        "import numpy as np"
      ],
      "execution_count": 43,
      "outputs": []
    },
    {
      "cell_type": "markdown",
      "metadata": {
        "id": "ht84jKGoODB6"
      },
      "source": [
        "## Book_info 이상치 해결"
      ]
    },
    {
      "cell_type": "code",
      "metadata": {
        "id": "KllPXf8pbY6E",
        "colab": {
          "base_uri": "https://localhost:8080/"
        },
        "outputId": "82cb25e1-65a4-4d95-8432-b43d371f6e26"
      },
      "source": [
        "# book_info의 ISBN 수정 필요한 값들 ==> not_lenght10\n",
        "strange_value_isbn =[]\n",
        "for i in tqdm(book_info.ISBN):\n",
        "    if(len(i)is not 10):\n",
        "        strange_value_isbn.append(i)\n",
        "strange_value_isbn"
      ],
      "execution_count": 96,
      "outputs": [
        {
          "output_type": "stream",
          "name": "stderr",
          "text": [
            "100%|██████████| 271379/271379 [00:00<00:00, 1902781.88it/s]\n"
          ]
        },
        {
          "output_type": "execute_result",
          "data": {
            "text/plain": [
              "['0486404242\\t', '3518365479<90', '3442248027  3', '0385722206  0']"
            ]
          },
          "metadata": {},
          "execution_count": 96
        }
      ]
    },
    {
      "cell_type": "code",
      "metadata": {
        "id": "X-tBhnrX2gCY"
      },
      "source": [
        "# book_info의 author 확인 필요한 값들 ==> strange_value_author\n",
        "strange_value_author =[]\n",
        "author = list(book_info.Book_Author.unique())    \n",
        "for i in author:\n",
        "    for j in i:\n",
        "        try:\n",
        "            int(j)\n",
        "            strange_value_author.append(i)\n",
        "            break\n",
        "        except:\n",
        "            pass\n",
        "# strange_value_author"
      ],
      "execution_count": 97,
      "outputs": []
    },
    {
      "cell_type": "code",
      "metadata": {
        "colab": {
          "base_uri": "https://localhost:8080/"
        },
        "id": "x4ZAvCPpzu92",
        "outputId": "67fa7617-821d-4f58-9da4-9644d9f450a4"
      },
      "source": [
        "strange_author_df = book_info[book_info.Book_Author.isin(strange_value_author)]\n",
        "strange_value_author_temp =[]\n",
        "for i in strange_author_df.Year_Of_Publication:\n",
        "    try:\n",
        "        int(i)\n",
        "    except:\n",
        "        strange_value_author_temp.append(i)\n",
        "\n",
        "check_author_index = strange_author_df[strange_author_df.Year_Of_Publication.isin(strange_value_author_temp)].index\n",
        "check_author_index"
      ],
      "execution_count": 98,
      "outputs": [
        {
          "output_type": "execute_result",
          "data": {
            "text/plain": [
              "Int64Index([104317, 112280, 144056, 180187, 209550, 220744, 221691], dtype='int64')"
            ]
          },
          "metadata": {},
          "execution_count": 98
        }
      ]
    },
    {
      "cell_type": "code",
      "metadata": {
        "colab": {
          "base_uri": "https://localhost:8080/"
        },
        "id": "Kzis0pd32fyZ",
        "outputId": "fdd90f05-5f68-4c40-de70-d55c9f6b4248"
      },
      "source": [
        "# book_info의 year 수정 필요한 값들 ==> strange_value_year\n",
        "strange_value_year=[]\n",
        "for i in book_info.Year_Of_Publication.unique():\n",
        "    temp = str(i)\n",
        "    if(len(temp)!=4):\n",
        "        strange_value_year.append(i)\n",
        "\n",
        "chek_year = book_info[book_info.Year_Of_Publication.isin(strange_value_year)]\n",
        "year_temp =[]\n",
        "\n",
        "for i in tqdm(chek_year.Year_Of_Publication):\n",
        "    temp =str(i)\n",
        "    if(len(temp)<2):\n",
        "        continue\n",
        "    else:\n",
        "        year_temp.append(i)\n",
        "\n",
        "year_temp=list(year_temp)   \n"
      ],
      "execution_count": 99,
      "outputs": [
        {
          "output_type": "stream",
          "name": "stderr",
          "text": [
            "100%|██████████| 4641/4641 [00:00<00:00, 813548.08it/s]\n"
          ]
        }
      ]
    },
    {
      "cell_type": "markdown",
      "metadata": {
        "id": "caLLnk_HL3K9"
      },
      "source": [
        "위에서 이상한 값들은 raw전체적으로 확인이 필요하다."
      ]
    },
    {
      "cell_type": "code",
      "metadata": {
        "id": "ameVMKMjR7ua"
      },
      "source": [
        "#Year_Of_Publication\n",
        "check_year_index=list(book_info[book_info.Year_Of_Publication.isin(year_temp)].index)\n",
        "# ISBN\n",
        "check_isbn_index = list(book_info[book_info.ISBN.isin(strange_value_isbn)].index)\n",
        "# Book_Author\n",
        "# check_author_index = list(book_info[book_info.Book_Author.isin(strange_value_author)].index)\n",
        "\n"
      ],
      "execution_count": 100,
      "outputs": []
    },
    {
      "cell_type": "markdown",
      "metadata": {
        "id": "-nxvM-lHlg5a"
      },
      "source": [
        "Book_Author 의 값중에서는 완전히 필터링이 된것이 아니기 떄문에  한번더 체크를 해주어야된다."
      ]
    },
    {
      "cell_type": "code",
      "metadata": {
        "colab": {
          "base_uri": "https://localhost:8080/"
        },
        "id": "dRJKJSmJhz7y",
        "outputId": "7288bdd5-46c8-41ee-949a-8d1abc493e9d"
      },
      "source": [
        "import re\n",
        "checking_url_check = book_info[book_info.Book_Author.isin(strange_value_author)]\n",
        "p = r'http://'\n",
        "# checking_date_temp #의 값을 확인해보니 값이 호출될떄 &amp 값이 들어간 경우 밀려있는 것을 알 수 있다.\n",
        "# 이렇게 밀림 현상이 일어난 값들의 index값을 불러와준다.\n",
        "check_author_index_r = list(checking_url_check[checking_url_check.Publisher.str.match(p)].index)\n",
        "check_author_index_r\n"
      ],
      "execution_count": 101,
      "outputs": [
        {
          "output_type": "execute_result",
          "data": {
            "text/plain": [
              "[112280, 209550, 220744, 221691]"
            ]
          },
          "metadata": {},
          "execution_count": 101
        }
      ]
    },
    {
      "cell_type": "markdown",
      "metadata": {
        "id": "Ex9DboS7mAAq"
      },
      "source": [
        "이제 문제가 있을것으로 예상되는 값을 합쳐준다."
      ]
    },
    {
      "cell_type": "code",
      "metadata": {
        "colab": {
          "base_uri": "https://localhost:8080/"
        },
        "id": "OV1lKFwXl9lK",
        "outputId": "8e037651-ad23-46e8-a763-19e04b7789fb"
      },
      "source": [
        "total_check_index = []\n",
        "total_check_index.extend(check_year_index)\n",
        "# total_check_index.extend(check_isbn_index)\n",
        "# isbn의 값은 밀림 현상으로 일어난 문제가 아니다.\n",
        "total_check_index.extend(check_author_index)\n",
        "print('중복제거 이전 index length :',len(total_check_index))\n",
        "total_check_index= list(set(total_check_index))\n",
        "print('중복제거 이후 index length :',len(total_check_index))\n",
        "\n",
        "\n",
        "need_eda_df = book_info[book_info.index.isin(total_check_index)]"
      ],
      "execution_count": 102,
      "outputs": [
        {
          "output_type": "stream",
          "name": "stdout",
          "text": [
            "중복제거 이전 index length : 30\n",
            "중복제거 이후 index length : 23\n"
          ]
        }
      ]
    },
    {
      "cell_type": "code",
      "metadata": {
        "id": "_HO4tjQ9RwhC"
      },
      "source": [
        "# ISBN 문제 해결 \n",
        "chg_isbn_temp =[]\n",
        "# check_isbn_index = index\n",
        "# strange_value_isbn = value\n",
        "#보통 ISBN의 길이가 10개인것으로 추측되므로 10개 이후의 값을 지워준다.\n",
        "for i in book_info.iloc[check_isbn_index].ISBN:\n",
        "    chg_isbn_temp.append(i[:10])\n",
        "# chg_isbn_temp\n",
        "for count,value in enumerate(check_isbn_index):\n",
        "    book_info.ISBN.iloc[value] = chg_isbn_temp[count]\n",
        "\n",
        "for i in book_info.iloc[check_isbn_index].ISBN:\n",
        "    if(len(i)!=10):\n",
        "        print(False)"
      ],
      "execution_count": 103,
      "outputs": []
    },
    {
      "cell_type": "code",
      "metadata": {
        "colab": {
          "base_uri": "https://localhost:8080/",
          "height": 0
        },
        "id": "4yJ5pg5V5RIH",
        "outputId": "cc1e6d40-a217-4c8a-95aa-ecdee7675fc8"
      },
      "source": [
        "need_eda_df.head()"
      ],
      "execution_count": 104,
      "outputs": [
        {
          "output_type": "execute_result",
          "data": {
            "text/html": [
              "<div>\n",
              "<style scoped>\n",
              "    .dataframe tbody tr th:only-of-type {\n",
              "        vertical-align: middle;\n",
              "    }\n",
              "\n",
              "    .dataframe tbody tr th {\n",
              "        vertical-align: top;\n",
              "    }\n",
              "\n",
              "    .dataframe thead th {\n",
              "        text-align: right;\n",
              "    }\n",
              "</style>\n",
              "<table border=\"1\" class=\"dataframe\">\n",
              "  <thead>\n",
              "    <tr style=\"text-align: right;\">\n",
              "      <th></th>\n",
              "      <th>ISBN</th>\n",
              "      <th>Book_Title</th>\n",
              "      <th>Book_Author</th>\n",
              "      <th>Year_Of_Publication</th>\n",
              "      <th>Publisher</th>\n",
              "    </tr>\n",
              "  </thead>\n",
              "  <tbody>\n",
              "    <tr>\n",
              "      <th>6450</th>\n",
              "      <td>0735201994</td>\n",
              "      <td>Peterman Rides Again: Adventures Continue with...</td>\n",
              "      <td>the Catalog Business\"</td>\n",
              "      <td>John Peterman</td>\n",
              "      <td>2000</td>\n",
              "    </tr>\n",
              "    <tr>\n",
              "      <th>43665</th>\n",
              "      <td>0330482750</td>\n",
              "      <td>Three Novels: A Strange and Sublime Address\"</td>\n",
              "      <td>\"Afternoon Raag\"</td>\n",
              "      <td>Freedom Song\";Amit Chaudhuri\"</td>\n",
              "      <td>2001</td>\n",
              "    </tr>\n",
              "    <tr>\n",
              "      <th>51749</th>\n",
              "      <td>0413326608</td>\n",
              "      <td>Upon my word!: More stories from My word!\" a p...</td>\n",
              "      <td>Tony Shryane\"</td>\n",
              "      <td>Frank Muir</td>\n",
              "      <td>1974</td>\n",
              "    </tr>\n",
              "    <tr>\n",
              "      <th>92036</th>\n",
              "      <td>0440500702</td>\n",
              "      <td>Schrodinger's Cat Trilogy : The Universe Next ...</td>\n",
              "      <td>\"The Homing Pigeons\"\"</td>\n",
              "      <td>ROBERT A. WILSON</td>\n",
              "      <td>1988</td>\n",
              "    </tr>\n",
              "    <tr>\n",
              "      <th>104317</th>\n",
              "      <td>0373166982</td>\n",
              "      <td>Please Say I Do\"  (Three Weddings &amp;amp</td>\n",
              "      <td>A Hurricane) (Harlequin American Romance, No ...</td>\n",
              "      <td>Karen T. Whittenburg</td>\n",
              "      <td>1997</td>\n",
              "    </tr>\n",
              "  </tbody>\n",
              "</table>\n",
              "</div>"
            ],
            "text/plain": [
              "              ISBN  ... Publisher\n",
              "6450    0735201994  ...      2000\n",
              "43665   0330482750  ...      2001\n",
              "51749   0413326608  ...      1974\n",
              "92036   0440500702  ...      1988\n",
              "104317  0373166982  ...      1997\n",
              "\n",
              "[5 rows x 5 columns]"
            ]
          },
          "metadata": {},
          "execution_count": 104
        }
      ]
    },
    {
      "cell_type": "code",
      "metadata": {
        "id": "i7Jl7CCE5RFR"
      },
      "source": [
        "book_info = book_info.drop(need_eda_df.index,axis=0)"
      ],
      "execution_count": 105,
      "outputs": []
    },
    {
      "cell_type": "markdown",
      "metadata": {
        "id": "tbGAB9_AMuxw"
      },
      "source": [
        "## User_data 결측치 처리"
      ]
    },
    {
      "cell_type": "code",
      "metadata": {
        "colab": {
          "base_uri": "https://localhost:8080/",
          "height": 0
        },
        "id": "rgrYY4_h5RCk",
        "outputId": "deaf6b69-3ac0-45ea-f2a6-a865c0becbcd"
      },
      "source": [
        "user_data.sort_values(by='Age',ascending=False)"
      ],
      "execution_count": 106,
      "outputs": [
        {
          "output_type": "execute_result",
          "data": {
            "text/html": [
              "<div>\n",
              "<style scoped>\n",
              "    .dataframe tbody tr th:only-of-type {\n",
              "        vertical-align: middle;\n",
              "    }\n",
              "\n",
              "    .dataframe tbody tr th {\n",
              "        vertical-align: top;\n",
              "    }\n",
              "\n",
              "    .dataframe thead th {\n",
              "        text-align: right;\n",
              "    }\n",
              "</style>\n",
              "<table border=\"1\" class=\"dataframe\">\n",
              "  <thead>\n",
              "    <tr style=\"text-align: right;\">\n",
              "      <th></th>\n",
              "      <th>User_ID</th>\n",
              "      <th>Location</th>\n",
              "      <th>Age</th>\n",
              "    </tr>\n",
              "  </thead>\n",
              "  <tbody>\n",
              "    <tr>\n",
              "      <th>20856</th>\n",
              "      <td>20857</td>\n",
              "      <td>stuttgart, baden-wuerttemberg, germany</td>\n",
              "      <td>244.0</td>\n",
              "    </tr>\n",
              "    <tr>\n",
              "      <th>8781</th>\n",
              "      <td>8782</td>\n",
              "      <td>calgary, alberta, canada</td>\n",
              "      <td>239.0</td>\n",
              "    </tr>\n",
              "    <tr>\n",
              "      <th>58285</th>\n",
              "      <td>58286</td>\n",
              "      <td>midvale, utah, usa</td>\n",
              "      <td>237.0</td>\n",
              "    </tr>\n",
              "    <tr>\n",
              "      <th>1578</th>\n",
              "      <td>1579</td>\n",
              "      <td>akure, ondo/nigeria, nigeria</td>\n",
              "      <td>231.0</td>\n",
              "    </tr>\n",
              "    <tr>\n",
              "      <th>8457</th>\n",
              "      <td>8458</td>\n",
              "      <td>milano, lombardia, italy</td>\n",
              "      <td>230.0</td>\n",
              "    </tr>\n",
              "    <tr>\n",
              "      <th>...</th>\n",
              "      <td>...</td>\n",
              "      <td>...</td>\n",
              "      <td>...</td>\n",
              "    </tr>\n",
              "    <tr>\n",
              "      <th>278849</th>\n",
              "      <td>278850</td>\n",
              "      <td>sergnano, lombardia, italy</td>\n",
              "      <td>NaN</td>\n",
              "    </tr>\n",
              "    <tr>\n",
              "      <th>278853</th>\n",
              "      <td>278854</td>\n",
              "      <td>portland, oregon, usa</td>\n",
              "      <td>NaN</td>\n",
              "    </tr>\n",
              "    <tr>\n",
              "      <th>278855</th>\n",
              "      <td>278856</td>\n",
              "      <td>brampton, ontario, canada</td>\n",
              "      <td>NaN</td>\n",
              "    </tr>\n",
              "    <tr>\n",
              "      <th>278856</th>\n",
              "      <td>278857</td>\n",
              "      <td>knoxville, tennessee, usa</td>\n",
              "      <td>NaN</td>\n",
              "    </tr>\n",
              "    <tr>\n",
              "      <th>278857</th>\n",
              "      <td>278858</td>\n",
              "      <td>dublin, n/a, ireland</td>\n",
              "      <td>NaN</td>\n",
              "    </tr>\n",
              "  </tbody>\n",
              "</table>\n",
              "<p>278858 rows × 3 columns</p>\n",
              "</div>"
            ],
            "text/plain": [
              "        User_ID                                Location    Age\n",
              "20856     20857  stuttgart, baden-wuerttemberg, germany  244.0\n",
              "8781       8782                calgary, alberta, canada  239.0\n",
              "58285     58286                      midvale, utah, usa  237.0\n",
              "1578       1579            akure, ondo/nigeria, nigeria  231.0\n",
              "8457       8458                milano, lombardia, italy  230.0\n",
              "...         ...                                     ...    ...\n",
              "278849   278850              sergnano, lombardia, italy    NaN\n",
              "278853   278854                   portland, oregon, usa    NaN\n",
              "278855   278856               brampton, ontario, canada    NaN\n",
              "278856   278857               knoxville, tennessee, usa    NaN\n",
              "278857   278858                    dublin, n/a, ireland    NaN\n",
              "\n",
              "[278858 rows x 3 columns]"
            ]
          },
          "metadata": {},
          "execution_count": 106
        }
      ]
    },
    {
      "cell_type": "code",
      "metadata": {
        "colab": {
          "base_uri": "https://localhost:8080/"
        },
        "id": "npLt4Hih8A2_",
        "outputId": "b8d24fd3-214e-45c3-996f-96490ce46c25"
      },
      "source": [
        "user_data.dtypes"
      ],
      "execution_count": 107,
      "outputs": [
        {
          "output_type": "execute_result",
          "data": {
            "text/plain": [
              "User_ID       int64\n",
              "Location     object\n",
              "Age         float64\n",
              "dtype: object"
            ]
          },
          "metadata": {},
          "execution_count": 107
        }
      ]
    },
    {
      "cell_type": "code",
      "metadata": {
        "id": "TGVbPej66kMX"
      },
      "source": [
        "user_data.loc[user_data.Age>90, 'Age'] = 90\n",
        "user_data.loc[user_data.Age==0, 'Age'] = 1"
      ],
      "execution_count": 108,
      "outputs": []
    },
    {
      "cell_type": "code",
      "metadata": {
        "colab": {
          "base_uri": "https://localhost:8080/"
        },
        "id": "E79EtljxJsTq",
        "outputId": "f74d59c4-38bb-4a75-eebd-54cb5b8b35de"
      },
      "source": [
        "user_data.Age.mean()"
      ],
      "execution_count": 109,
      "outputs": [
        {
          "output_type": "execute_result",
          "data": {
            "text/plain": [
              "34.689950980392155"
            ]
          },
          "metadata": {},
          "execution_count": 109
        }
      ]
    },
    {
      "cell_type": "code",
      "metadata": {
        "colab": {
          "base_uri": "https://localhost:8080/",
          "height": 0
        },
        "id": "PxyY4oyOHc-4",
        "outputId": "486698b7-c370-4f10-f518-8e16f2aec760"
      },
      "source": [
        "for count,value in tqdm(enumerate(user_data.Age)):\n",
        "    if(np.isnan(value)):\n",
        "        user_data.Age.iloc[count] = round(user_data.Age.mean(),0)\n",
        "        \n",
        "user_data"
      ],
      "execution_count": 110,
      "outputs": [
        {
          "output_type": "stream",
          "name": "stderr",
          "text": [
            "0it [00:00, ?it/s]/usr/local/lib/python3.7/dist-packages/pandas/core/indexing.py:670: SettingWithCopyWarning: \n",
            "A value is trying to be set on a copy of a slice from a DataFrame\n",
            "\n",
            "See the caveats in the documentation: https://pandas.pydata.org/pandas-docs/stable/user_guide/indexing.html#returning-a-view-versus-a-copy\n",
            "  iloc._setitem_with_indexer(indexer, value)\n",
            "278858it [02:30, 1848.02it/s]\n"
          ]
        },
        {
          "output_type": "execute_result",
          "data": {
            "text/html": [
              "<div>\n",
              "<style scoped>\n",
              "    .dataframe tbody tr th:only-of-type {\n",
              "        vertical-align: middle;\n",
              "    }\n",
              "\n",
              "    .dataframe tbody tr th {\n",
              "        vertical-align: top;\n",
              "    }\n",
              "\n",
              "    .dataframe thead th {\n",
              "        text-align: right;\n",
              "    }\n",
              "</style>\n",
              "<table border=\"1\" class=\"dataframe\">\n",
              "  <thead>\n",
              "    <tr style=\"text-align: right;\">\n",
              "      <th></th>\n",
              "      <th>User_ID</th>\n",
              "      <th>Location</th>\n",
              "      <th>Age</th>\n",
              "    </tr>\n",
              "  </thead>\n",
              "  <tbody>\n",
              "    <tr>\n",
              "      <th>0</th>\n",
              "      <td>1</td>\n",
              "      <td>nyc, new york, usa</td>\n",
              "      <td>35.0</td>\n",
              "    </tr>\n",
              "    <tr>\n",
              "      <th>1</th>\n",
              "      <td>2</td>\n",
              "      <td>stockton, california, usa</td>\n",
              "      <td>18.0</td>\n",
              "    </tr>\n",
              "    <tr>\n",
              "      <th>2</th>\n",
              "      <td>3</td>\n",
              "      <td>moscow, yukon territory, russia</td>\n",
              "      <td>35.0</td>\n",
              "    </tr>\n",
              "    <tr>\n",
              "      <th>3</th>\n",
              "      <td>4</td>\n",
              "      <td>porto, v.n.gaia, portugal</td>\n",
              "      <td>17.0</td>\n",
              "    </tr>\n",
              "    <tr>\n",
              "      <th>4</th>\n",
              "      <td>5</td>\n",
              "      <td>farnborough, hants, united kingdom</td>\n",
              "      <td>35.0</td>\n",
              "    </tr>\n",
              "    <tr>\n",
              "      <th>...</th>\n",
              "      <td>...</td>\n",
              "      <td>...</td>\n",
              "      <td>...</td>\n",
              "    </tr>\n",
              "    <tr>\n",
              "      <th>278853</th>\n",
              "      <td>278854</td>\n",
              "      <td>portland, oregon, usa</td>\n",
              "      <td>35.0</td>\n",
              "    </tr>\n",
              "    <tr>\n",
              "      <th>278854</th>\n",
              "      <td>278855</td>\n",
              "      <td>tacoma, washington, united kingdom</td>\n",
              "      <td>50.0</td>\n",
              "    </tr>\n",
              "    <tr>\n",
              "      <th>278855</th>\n",
              "      <td>278856</td>\n",
              "      <td>brampton, ontario, canada</td>\n",
              "      <td>35.0</td>\n",
              "    </tr>\n",
              "    <tr>\n",
              "      <th>278856</th>\n",
              "      <td>278857</td>\n",
              "      <td>knoxville, tennessee, usa</td>\n",
              "      <td>35.0</td>\n",
              "    </tr>\n",
              "    <tr>\n",
              "      <th>278857</th>\n",
              "      <td>278858</td>\n",
              "      <td>dublin, n/a, ireland</td>\n",
              "      <td>35.0</td>\n",
              "    </tr>\n",
              "  </tbody>\n",
              "</table>\n",
              "<p>278858 rows × 3 columns</p>\n",
              "</div>"
            ],
            "text/plain": [
              "        User_ID                            Location   Age\n",
              "0             1                  nyc, new york, usa  35.0\n",
              "1             2           stockton, california, usa  18.0\n",
              "2             3     moscow, yukon territory, russia  35.0\n",
              "3             4           porto, v.n.gaia, portugal  17.0\n",
              "4             5  farnborough, hants, united kingdom  35.0\n",
              "...         ...                                 ...   ...\n",
              "278853   278854               portland, oregon, usa  35.0\n",
              "278854   278855  tacoma, washington, united kingdom  50.0\n",
              "278855   278856           brampton, ontario, canada  35.0\n",
              "278856   278857           knoxville, tennessee, usa  35.0\n",
              "278857   278858                dublin, n/a, ireland  35.0\n",
              "\n",
              "[278858 rows x 3 columns]"
            ]
          },
          "metadata": {},
          "execution_count": 110
        }
      ]
    },
    {
      "cell_type": "markdown",
      "metadata": {
        "id": "_aSXL1YfNbbD"
      },
      "source": [
        "##Rating 이상치 해결"
      ]
    },
    {
      "cell_type": "code",
      "metadata": {
        "id": "gdc8y9R1WLGC"
      },
      "source": [
        "# # rating의 ISBN 수정 필요한 값들 ==> not_lenght10\n",
        "# rating_isbn =[]\n",
        "# for i in tqdm(rating.ISBN):\n",
        "#     if(len(i)is not 10):\n",
        "#         rating_isbn.append(i)\n",
        "\n",
        "# # for i in rating_isbn:\n",
        "# #     if(len(i)>10):\n",
        "# rating_isbn_temp=[]\n",
        "# rating_isbn_index = rating[rating.ISBN.isin(rating_isbn)].index\n",
        "# for i in tqdm(rating.iloc[rating_isbn_index].ISBN):\n",
        "#     rating_isbn_temp.append(i[:10])\n",
        "\n",
        "# for count,value in tqdm(enumerate(rating_isbn_index)):\n",
        "#     rating.ISBN.iloc[value] = rating_isbn_temp[count]\n",
        "\n",
        "# rating_drop_isbn=[]\n",
        "# for i in tqdm(rating.iloc[rating_isbn_index].ISBN):\n",
        "#     if(len(i)<10):\n",
        "#         rating_drop_isbn.append(i)"
      ],
      "execution_count": null,
      "outputs": []
    },
    {
      "cell_type": "code",
      "metadata": {
        "id": "8ebQEY0ecocB"
      },
      "source": [
        "rating = rating[rating.ISBN.isin(book_info.ISBN)]"
      ],
      "execution_count": 148,
      "outputs": []
    },
    {
      "cell_type": "code",
      "metadata": {
        "colab": {
          "base_uri": "https://localhost:8080/"
        },
        "id": "_E5SUxnZbqqC",
        "outputId": "005b14d5-8e3b-45b1-b2e9-da8ee9b6bbcf"
      },
      "source": [
        "rating.shape"
      ],
      "execution_count": 149,
      "outputs": [
        {
          "output_type": "execute_result",
          "data": {
            "text/plain": [
              "(1031423, 3)"
            ]
          },
          "metadata": {},
          "execution_count": 149
        }
      ]
    },
    {
      "cell_type": "code",
      "metadata": {
        "id": "ni0cBV3ioVb2",
        "colab": {
          "base_uri": "https://localhost:8080/",
          "height": 0
        },
        "outputId": "9051ddd8-2d13-4e46-ce91-26333069921a"
      },
      "source": [
        "import seaborn as sns\n",
        "import matplotlib.pyplot as plt\n",
        "\n",
        "rating_score=[]\n",
        "rating_isbn=[]\n",
        "for i in range(0,11):\n",
        "    rating_score.append(len(rating.groupby('Book_Rating').get_group(i).ISBN.unique()))\n",
        "    rating_isbn.append(i)\n",
        "\n",
        "rating_df = pd.DataFrame({\"count\":rating_score,\"score\":rating_isbn})\n",
        "sns.barplot(x='score',y='count',data=rating_df);"
      ],
      "execution_count": 150,
      "outputs": [
        {
          "output_type": "display_data",
          "data": {
            "image/png": "[encoded data removed]",
            "text/plain": [
              "<Figure size 432x288 with 1 Axes>"
            ]
          },
          "metadata": {
            "needs_background": "light"
          }
        }
      ]
    },
    {
      "cell_type": "code",
      "metadata": {
        "id": "hCFB2tGhoVTu",
        "colab": {
          "base_uri": "https://localhost:8080/",
          "height": 0
        },
        "outputId": "1ea40ac6-142d-424b-eedc-9ab259481328"
      },
      "source": [
        "rating_score = rating[rating.Book_Rating != 0]\n",
        "rating_bad_score = rating[rating.Book_Rating==0] #블랙컨슈머?\n",
        "sns.countplot(x='Book_Rating',data=rating_score);"
      ],
      "execution_count": 151,
      "outputs": [
        {
          "output_type": "display_data",
          "data": {
            "image/png": "[encoded data removed]",
            "text/plain": [
              "<Figure size 432x288 with 1 Axes>"
            ]
          },
          "metadata": {
            "needs_background": "light"
          }
        }
      ]
    },
    {
      "cell_type": "code",
      "metadata": {
        "colab": {
          "base_uri": "https://localhost:8080/",
          "height": 0
        },
        "id": "VC6RmXnAVrOC",
        "outputId": "45eaafce-cc1d-494b-8850-dfd851308336"
      },
      "source": [
        "rating_score"
      ],
      "execution_count": 152,
      "outputs": [
        {
          "output_type": "execute_result",
          "data": {
            "text/html": [
              "<div>\n",
              "<style scoped>\n",
              "    .dataframe tbody tr th:only-of-type {\n",
              "        vertical-align: middle;\n",
              "    }\n",
              "\n",
              "    .dataframe tbody tr th {\n",
              "        vertical-align: top;\n",
              "    }\n",
              "\n",
              "    .dataframe thead th {\n",
              "        text-align: right;\n",
              "    }\n",
              "</style>\n",
              "<table border=\"1\" class=\"dataframe\">\n",
              "  <thead>\n",
              "    <tr style=\"text-align: right;\">\n",
              "      <th></th>\n",
              "      <th>User_ID</th>\n",
              "      <th>ISBN</th>\n",
              "      <th>Book_Rating</th>\n",
              "    </tr>\n",
              "  </thead>\n",
              "  <tbody>\n",
              "    <tr>\n",
              "      <th>1</th>\n",
              "      <td>276726</td>\n",
              "      <td>0155061224</td>\n",
              "      <td>5</td>\n",
              "    </tr>\n",
              "    <tr>\n",
              "      <th>3</th>\n",
              "      <td>276729</td>\n",
              "      <td>052165615X</td>\n",
              "      <td>3</td>\n",
              "    </tr>\n",
              "    <tr>\n",
              "      <th>4</th>\n",
              "      <td>276729</td>\n",
              "      <td>0521795028</td>\n",
              "      <td>6</td>\n",
              "    </tr>\n",
              "    <tr>\n",
              "      <th>8</th>\n",
              "      <td>276744</td>\n",
              "      <td>038550120X</td>\n",
              "      <td>7</td>\n",
              "    </tr>\n",
              "    <tr>\n",
              "      <th>16</th>\n",
              "      <td>276747</td>\n",
              "      <td>0060517794</td>\n",
              "      <td>9</td>\n",
              "    </tr>\n",
              "    <tr>\n",
              "      <th>...</th>\n",
              "      <td>...</td>\n",
              "      <td>...</td>\n",
              "      <td>...</td>\n",
              "    </tr>\n",
              "    <tr>\n",
              "      <th>1149771</th>\n",
              "      <td>276704</td>\n",
              "      <td>0743211383</td>\n",
              "      <td>7</td>\n",
              "    </tr>\n",
              "    <tr>\n",
              "      <th>1149773</th>\n",
              "      <td>276704</td>\n",
              "      <td>0806917695</td>\n",
              "      <td>5</td>\n",
              "    </tr>\n",
              "    <tr>\n",
              "      <th>1149775</th>\n",
              "      <td>276704</td>\n",
              "      <td>1563526298</td>\n",
              "      <td>9</td>\n",
              "    </tr>\n",
              "    <tr>\n",
              "      <th>1149777</th>\n",
              "      <td>276709</td>\n",
              "      <td>0515107662</td>\n",
              "      <td>10</td>\n",
              "    </tr>\n",
              "    <tr>\n",
              "      <th>1149778</th>\n",
              "      <td>276721</td>\n",
              "      <td>0590442449</td>\n",
              "      <td>10</td>\n",
              "    </tr>\n",
              "  </tbody>\n",
              "</table>\n",
              "<p>383972 rows × 3 columns</p>\n",
              "</div>"
            ],
            "text/plain": [
              "         User_ID        ISBN  Book_Rating\n",
              "1         276726  0155061224            5\n",
              "3         276729  052165615X            3\n",
              "4         276729  0521795028            6\n",
              "8         276744  038550120X            7\n",
              "16        276747  0060517794            9\n",
              "...          ...         ...          ...\n",
              "1149771   276704  0743211383            7\n",
              "1149773   276704  0806917695            5\n",
              "1149775   276704  1563526298            9\n",
              "1149777   276709  0515107662           10\n",
              "1149778   276721  0590442449           10\n",
              "\n",
              "[383972 rows x 3 columns]"
            ]
          },
          "metadata": {},
          "execution_count": 152
        }
      ]
    },
    {
      "cell_type": "code",
      "metadata": {
        "colab": {
          "base_uri": "https://localhost:8080/",
          "height": 0
        },
        "id": "N2OWfhn2VrDx",
        "outputId": "64d1d382-cc21-4c31-bf88-76311bb85436"
      },
      "source": [
        "rating_bad_score"
      ],
      "execution_count": 153,
      "outputs": [
        {
          "output_type": "execute_result",
          "data": {
            "text/html": [
              "<div>\n",
              "<style scoped>\n",
              "    .dataframe tbody tr th:only-of-type {\n",
              "        vertical-align: middle;\n",
              "    }\n",
              "\n",
              "    .dataframe tbody tr th {\n",
              "        vertical-align: top;\n",
              "    }\n",
              "\n",
              "    .dataframe thead th {\n",
              "        text-align: right;\n",
              "    }\n",
              "</style>\n",
              "<table border=\"1\" class=\"dataframe\">\n",
              "  <thead>\n",
              "    <tr style=\"text-align: right;\">\n",
              "      <th></th>\n",
              "      <th>User_ID</th>\n",
              "      <th>ISBN</th>\n",
              "      <th>Book_Rating</th>\n",
              "    </tr>\n",
              "  </thead>\n",
              "  <tbody>\n",
              "    <tr>\n",
              "      <th>0</th>\n",
              "      <td>276725</td>\n",
              "      <td>034545104X</td>\n",
              "      <td>0</td>\n",
              "    </tr>\n",
              "    <tr>\n",
              "      <th>2</th>\n",
              "      <td>276727</td>\n",
              "      <td>0446520802</td>\n",
              "      <td>0</td>\n",
              "    </tr>\n",
              "    <tr>\n",
              "      <th>5</th>\n",
              "      <td>276733</td>\n",
              "      <td>2080674722</td>\n",
              "      <td>0</td>\n",
              "    </tr>\n",
              "    <tr>\n",
              "      <th>10</th>\n",
              "      <td>276746</td>\n",
              "      <td>0425115801</td>\n",
              "      <td>0</td>\n",
              "    </tr>\n",
              "    <tr>\n",
              "      <th>11</th>\n",
              "      <td>276746</td>\n",
              "      <td>0449006522</td>\n",
              "      <td>0</td>\n",
              "    </tr>\n",
              "    <tr>\n",
              "      <th>...</th>\n",
              "      <td>...</td>\n",
              "      <td>...</td>\n",
              "      <td>...</td>\n",
              "    </tr>\n",
              "    <tr>\n",
              "      <th>1149769</th>\n",
              "      <td>276704</td>\n",
              "      <td>059032120X</td>\n",
              "      <td>0</td>\n",
              "    </tr>\n",
              "    <tr>\n",
              "      <th>1149770</th>\n",
              "      <td>276704</td>\n",
              "      <td>0679752714</td>\n",
              "      <td>0</td>\n",
              "    </tr>\n",
              "    <tr>\n",
              "      <th>1149772</th>\n",
              "      <td>276704</td>\n",
              "      <td>080410526X</td>\n",
              "      <td>0</td>\n",
              "    </tr>\n",
              "    <tr>\n",
              "      <th>1149774</th>\n",
              "      <td>276704</td>\n",
              "      <td>0876044011</td>\n",
              "      <td>0</td>\n",
              "    </tr>\n",
              "    <tr>\n",
              "      <th>1149776</th>\n",
              "      <td>276706</td>\n",
              "      <td>0679447156</td>\n",
              "      <td>0</td>\n",
              "    </tr>\n",
              "  </tbody>\n",
              "</table>\n",
              "<p>647451 rows × 3 columns</p>\n",
              "</div>"
            ],
            "text/plain": [
              "         User_ID        ISBN  Book_Rating\n",
              "0         276725  034545104X            0\n",
              "2         276727  0446520802            0\n",
              "5         276733  2080674722            0\n",
              "10        276746  0425115801            0\n",
              "11        276746  0449006522            0\n",
              "...          ...         ...          ...\n",
              "1149769   276704  059032120X            0\n",
              "1149770   276704  0679752714            0\n",
              "1149772   276704  080410526X            0\n",
              "1149774   276704  0876044011            0\n",
              "1149776   276706  0679447156            0\n",
              "\n",
              "[647451 rows x 3 columns]"
            ]
          },
          "metadata": {},
          "execution_count": 153
        }
      ]
    },
    {
      "cell_type": "markdown",
      "metadata": {
        "id": "brDBgenXN8hI"
      },
      "source": [
        "#Data Wrangling"
      ]
    },
    {
      "cell_type": "code",
      "metadata": {
        "id": "no6gfGpZNk8K"
      },
      "source": [
        "total_rating= pd.DataFrame(rating_score.groupby(['ISBN']).Book_Rating.sum()) #book_rating 합친 값 \n",
        "top10 = total_rating.sort_values(by='Book_Rating',ascending = False).head(10)\n",
        "result_df=top10.merge(book_info,left_index= True,right_on='ISBN').rename(columns = {'Book_Rating' : 'Total_Rating'})"
      ],
      "execution_count": 162,
      "outputs": []
    },
    {
      "cell_type": "code",
      "metadata": {
        "colab": {
          "base_uri": "https://localhost:8080/",
          "height": 546
        },
        "id": "IS2a44G4ej7R",
        "outputId": "280c5054-2b97-4bd2-e9a0-a04bdacac221"
      },
      "source": [
        "result_df"
      ],
      "execution_count": 163,
      "outputs": [
        {
          "output_type": "execute_result",
          "data": {
            "text/html": [
              "<div>\n",
              "<style scoped>\n",
              "    .dataframe tbody tr th:only-of-type {\n",
              "        vertical-align: middle;\n",
              "    }\n",
              "\n",
              "    .dataframe tbody tr th {\n",
              "        vertical-align: top;\n",
              "    }\n",
              "\n",
              "    .dataframe thead th {\n",
              "        text-align: right;\n",
              "    }\n",
              "</style>\n",
              "<table border=\"1\" class=\"dataframe\">\n",
              "  <thead>\n",
              "    <tr style=\"text-align: right;\">\n",
              "      <th></th>\n",
              "      <th>Total_Rating</th>\n",
              "      <th>ISBN</th>\n",
              "      <th>Book_Title</th>\n",
              "      <th>Book_Author</th>\n",
              "      <th>Year_Of_Publication</th>\n",
              "      <th>Publisher</th>\n",
              "    </tr>\n",
              "  </thead>\n",
              "  <tbody>\n",
              "    <tr>\n",
              "      <th>408</th>\n",
              "      <td>5787</td>\n",
              "      <td>0316666343</td>\n",
              "      <td>The Lovely Bones: A Novel</td>\n",
              "      <td>Alice Sebold</td>\n",
              "      <td>2002</td>\n",
              "      <td>Little, Brown</td>\n",
              "    </tr>\n",
              "    <tr>\n",
              "      <th>748</th>\n",
              "      <td>4108</td>\n",
              "      <td>0385504209</td>\n",
              "      <td>The Da Vinci Code</td>\n",
              "      <td>Dan Brown</td>\n",
              "      <td>2003</td>\n",
              "      <td>Doubleday</td>\n",
              "    </tr>\n",
              "    <tr>\n",
              "      <th>522</th>\n",
              "      <td>3134</td>\n",
              "      <td>0312195516</td>\n",
              "      <td>The Red Tent (Bestselling Backlist)</td>\n",
              "      <td>Anita Diamant</td>\n",
              "      <td>1998</td>\n",
              "      <td>Picador USA</td>\n",
              "    </tr>\n",
              "    <tr>\n",
              "      <th>2143</th>\n",
              "      <td>2798</td>\n",
              "      <td>059035342X</td>\n",
              "      <td>Harry Potter and the Sorcerer's Stone (Harry P...</td>\n",
              "      <td>J. K. Rowling</td>\n",
              "      <td>1999</td>\n",
              "      <td>Arthur A. Levine Books</td>\n",
              "    </tr>\n",
              "    <tr>\n",
              "      <th>356</th>\n",
              "      <td>2595</td>\n",
              "      <td>0142001740</td>\n",
              "      <td>The Secret Life of Bees</td>\n",
              "      <td>Sue Monk Kidd</td>\n",
              "      <td>2003</td>\n",
              "      <td>Penguin Books</td>\n",
              "    </tr>\n",
              "    <tr>\n",
              "      <th>26</th>\n",
              "      <td>2551</td>\n",
              "      <td>0971880107</td>\n",
              "      <td>Wild Animus</td>\n",
              "      <td>Rich Shapero</td>\n",
              "      <td>2004</td>\n",
              "      <td>Too Far</td>\n",
              "    </tr>\n",
              "    <tr>\n",
              "      <th>1105</th>\n",
              "      <td>2524</td>\n",
              "      <td>0060928336</td>\n",
              "      <td>Divine Secrets of the Ya-Ya Sisterhood: A Novel</td>\n",
              "      <td>Rebecca Wells</td>\n",
              "      <td>1997</td>\n",
              "      <td>Perennial</td>\n",
              "    </tr>\n",
              "    <tr>\n",
              "      <th>706</th>\n",
              "      <td>2402</td>\n",
              "      <td>0446672211</td>\n",
              "      <td>Where the Heart Is (Oprah's Book Club (Paperba...</td>\n",
              "      <td>Billie Letts</td>\n",
              "      <td>1998</td>\n",
              "      <td>Warner Books</td>\n",
              "    </tr>\n",
              "    <tr>\n",
              "      <th>231</th>\n",
              "      <td>2219</td>\n",
              "      <td>0452282152</td>\n",
              "      <td>Girl with a Pearl Earring</td>\n",
              "      <td>Tracy Chevalier</td>\n",
              "      <td>2001</td>\n",
              "      <td>Plume Books</td>\n",
              "    </tr>\n",
              "    <tr>\n",
              "      <th>118</th>\n",
              "      <td>2179</td>\n",
              "      <td>0671027360</td>\n",
              "      <td>Angels &amp;amp; Demons</td>\n",
              "      <td>Dan Brown</td>\n",
              "      <td>2001</td>\n",
              "      <td>Pocket Star</td>\n",
              "    </tr>\n",
              "  </tbody>\n",
              "</table>\n",
              "</div>"
            ],
            "text/plain": [
              "      Total_Rating        ISBN  ... Year_Of_Publication               Publisher\n",
              "408           5787  0316666343  ...                2002           Little, Brown\n",
              "748           4108  0385504209  ...                2003               Doubleday\n",
              "522           3134  0312195516  ...                1998             Picador USA\n",
              "2143          2798  059035342X  ...                1999  Arthur A. Levine Books\n",
              "356           2595  0142001740  ...                2003           Penguin Books\n",
              "26            2551  0971880107  ...                2004                 Too Far\n",
              "1105          2524  0060928336  ...                1997               Perennial\n",
              "706           2402  0446672211  ...                1998            Warner Books\n",
              "231           2219  0452282152  ...                2001             Plume Books\n",
              "118           2179  0671027360  ...                2001             Pocket Star\n",
              "\n",
              "[10 rows x 6 columns]"
            ]
          },
          "metadata": {},
          "execution_count": 163
        }
      ]
    },
    {
      "cell_type": "code",
      "metadata": {
        "id": "8zrAdV__Nk2I"
      },
      "source": [
        ""
      ],
      "execution_count": null,
      "outputs": []
    },
    {
      "cell_type": "markdown",
      "metadata": {
        "id": "wiX_T2d-QAKh"
      },
      "source": [
        "#모델링"
      ]
    },
    {
      "cell_type": "code",
      "metadata": {
        "id": "EOq1SZPJNkzH"
      },
      "source": [
        ""
      ],
      "execution_count": null,
      "outputs": []
    },
    {
      "cell_type": "code",
      "metadata": {
        "id": "upLtzf0zNkv_"
      },
      "source": [
        ""
      ],
      "execution_count": null,
      "outputs": []
    },
    {
      "cell_type": "code",
      "metadata": {
        "id": "gm77xbCANknQ"
      },
      "source": [
        ""
      ],
      "execution_count": null,
      "outputs": []
    },
    {
      "cell_type": "code",
      "metadata": {
        "id": "yD9_L9szNBAY"
      },
      "source": [
        ""
      ],
      "execution_count": null,
      "outputs": []
    }
  ]
}