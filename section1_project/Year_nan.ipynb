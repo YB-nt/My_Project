{
 "cells": [
  {
   "cell_type": "code",
   "execution_count": 1,
   "metadata": {},
   "outputs": [
    {
     "name": "stdout",
     "output_type": "stream",
     "text": [
      "chromebrowser_ver : 94.0.4606.81\n"
     ]
    }
   ],
   "source": [
    "from selenium import webdriver\n",
    "from time import sleep\n",
    "from Check_Chromedriver import Check_Chromedriver\n",
    "import pandas as pd\n",
    "import numpy as np\n"
   ]
  },
  {
   "cell_type": "code",
   "execution_count": 2,
   "metadata": {},
   "outputs": [
    {
     "name": "stdout",
     "output_type": "stream",
     "text": [
      "chromedriver_ver : 94.0.4606.61\n"
     ]
    }
   ],
   "source": [
    "Check_Chromedriver.driver_mother_path = \"./driver\"\n",
    "Check_Chromedriver.main()"
   ]
  },
  {
   "cell_type": "code",
   "execution_count": 3,
   "metadata": {},
   "outputs": [
    {
     "name": "stderr",
     "output_type": "stream",
     "text": [
      "c:\\python37\\lib\\site-packages\\ipykernel_launcher.py:5: DeprecationWarning: use options instead of chrome_options\n",
      "  \"\"\"\n"
     ]
    }
   ],
   "source": [
    "options = webdriver.ChromeOptions()\n",
    "options.add_argument('headless')\n",
    "options.add_argument(\"disable-gpu\")\n",
    "\n",
    "driver = webdriver.Chrome(\"./driver/chromedriver\",chrome_options=options)"
   ]
  },
  {
   "cell_type": "code",
   "execution_count": 4,
   "metadata": {},
   "outputs": [],
   "source": [
    "url ='https://en.wikipedia.org/wiki/The_Munchables'\n",
    "driver.get(url)"
   ]
  },
  {
   "cell_type": "code",
   "execution_count": 5,
   "metadata": {},
   "outputs": [
    {
     "data": {
      "text/plain": [
       "'Rock Band'"
      ]
     },
     "execution_count": 5,
     "metadata": {},
     "output_type": "execute_result"
    }
   ],
   "source": [
    "df = pd.read_csv('vgames2.csv')\n",
    "nan_name =[]\n",
    "for count,value in enumerate(df[\"Year\"]):\n",
    "    if(np.isnan(value)==True):\n",
    "        nan_name.append(df['Name'][count])\n",
    "        \n",
    "nan_name[0]"
   ]
  },
  {
   "cell_type": "code",
   "execution_count": null,
   "metadata": {},
   "outputs": [],
   "source": [
    "data = pd.DataFrame()\n",
    "data['Name'] = nan_name\n",
    "error_name =[]\n",
    "years_data = []\n",
    "opt = 1\n",
    "for count,value in enumerate(nan_name):\n",
    "    url =f'https://en.wikipedia.org/wiki/{value}'\n",
    "    driver.get(url)\n",
    "    check='//*[@id=\"noarticletext\"]/tbody/tr/td/b'\n",
    "    check_text='Wikipedia does not have an article with this exact name.'\n",
    "    try:\n",
    "        if(driver.find_element_by_xpath(check).text == check_text):\n",
    "#             print(\"nan1\")\n",
    "            years_data.append(np.nan)\n",
    "            if(opt == 1):\n",
    "                continue\n",
    "        else:\n",
    "            pass\n",
    "    except:\n",
    "        pass\n",
    "    \n",
    "    sleep(0.5)\n",
    "    xpath ='//*[@id=\"mw-content-text\"]/div[1]/table[2]/tbody/tr[6]/td'\n",
    "    try:\n",
    "        year = driver.find_element_by_xpath(\"//th[text()='Release']/following-sibling::td\").text\n",
    "    except:\n",
    "        try:\n",
    "            year = driver.find_element_by_xpath(\"//th[text()='First release']/following-sibling::td\").text\n",
    "        except:\n",
    "            error_name.append(value)\n",
    "            years_data.append(np.nan)\n",
    "#             print(\"nan2\")\n",
    "            if(opt ==1):\n",
    "                continue\n",
    "            \n",
    "    temp = []\n",
    "    years = year.split('\\n')\n",
    "    try:\n",
    "        for i in years:\n",
    "            try:\n",
    "                temp.append(int(i[-4:]))\n",
    "            except:\n",
    "                pass\n",
    "    except:\n",
    "        years_data.append(np.nan)\n",
    "#         print(\"nan3\")\n",
    "    try:\n",
    "        years_data.append(max(temp))\n",
    "#         print(\"good\")\n",
    "    except:\n",
    "        years_data.append(np.nan)\n",
    "#         print(\"nan4\")\n",
    "   \n",
    "\n",
    "    "
   ]
  },
  {
   "cell_type": "code",
   "execution_count": 15,
   "metadata": {},
   "outputs": [],
   "source": [
    "# data[\"Year\"] = years_data\n",
    "for count,value in enumerate(years_data):\n",
    "    try:\n",
    "        data['Year'][count] = int(value)\n",
    "    except:\n",
    "        data['Year'][count] = np.nan\n",
    "        \n",
    "print(\"변경된 데이터 : \",len(data['Name'])-data['Year'].isnull().sum())\n",
    "\n",
    "# for count,value in enumerate(years_data):\n",
    "#     try:\n",
    "#         data['Year'][count] = int(years_data)\n",
    "#     except:\n",
    "#         data['Year'][count] = np.nan"
   ]
  },
  {
   "cell_type": "code",
   "execution_count": 83,
   "metadata": {},
   "outputs": [],
   "source": [
    "data.to_csv(\"fill_nan.csv\")"
   ]
  },
  {
   "cell_type": "code",
   "execution_count": 74,
   "metadata": {},
   "outputs": [
    {
     "data": {
      "text/html": [
       "<div>\n",
       "<style scoped>\n",
       "    .dataframe tbody tr th:only-of-type {\n",
       "        vertical-align: middle;\n",
       "    }\n",
       "\n",
       "    .dataframe tbody tr th {\n",
       "        vertical-align: top;\n",
       "    }\n",
       "\n",
       "    .dataframe thead th {\n",
       "        text-align: right;\n",
       "    }\n",
       "</style>\n",
       "<table border=\"1\" class=\"dataframe\">\n",
       "  <thead>\n",
       "    <tr style=\"text-align: right;\">\n",
       "      <th></th>\n",
       "      <th>Name</th>\n",
       "      <th>Year</th>\n",
       "    </tr>\n",
       "  </thead>\n",
       "  <tbody>\n",
       "    <tr>\n",
       "      <th>0</th>\n",
       "      <td>Rock Band</td>\n",
       "      <td>2007.0</td>\n",
       "    </tr>\n",
       "    <tr>\n",
       "      <th>1</th>\n",
       "      <td>Yu-Gi-Oh! 5D's Wheelie Breakers (JP sales)</td>\n",
       "      <td>NaN</td>\n",
       "    </tr>\n",
       "    <tr>\n",
       "      <th>2</th>\n",
       "      <td>Jewel Link Chronicles: Mountains of Madness</td>\n",
       "      <td>NaN</td>\n",
       "    </tr>\n",
       "    <tr>\n",
       "      <th>3</th>\n",
       "      <td>Majesty 2: The Fantasy Kingdom Sim</td>\n",
       "      <td>2009.0</td>\n",
       "    </tr>\n",
       "    <tr>\n",
       "      <th>4</th>\n",
       "      <td>Famista 64</td>\n",
       "      <td>1997.0</td>\n",
       "    </tr>\n",
       "    <tr>\n",
       "      <th>...</th>\n",
       "      <td>...</td>\n",
       "      <td>...</td>\n",
       "    </tr>\n",
       "    <tr>\n",
       "      <th>266</th>\n",
       "      <td>Freaky Flyers</td>\n",
       "      <td>2003.0</td>\n",
       "    </tr>\n",
       "    <tr>\n",
       "      <th>267</th>\n",
       "      <td>Space Invaders</td>\n",
       "      <td>2600.0</td>\n",
       "    </tr>\n",
       "    <tr>\n",
       "      <th>268</th>\n",
       "      <td>Madden NFL 11</td>\n",
       "      <td>NaN</td>\n",
       "    </tr>\n",
       "    <tr>\n",
       "      <th>269</th>\n",
       "      <td>Yoostar on MTV</td>\n",
       "      <td>NaN</td>\n",
       "    </tr>\n",
       "    <tr>\n",
       "      <th>270</th>\n",
       "      <td>Bejeweled 3</td>\n",
       "      <td>2010.0</td>\n",
       "    </tr>\n",
       "  </tbody>\n",
       "</table>\n",
       "<p>271 rows × 2 columns</p>\n",
       "</div>"
      ],
      "text/plain": [
       "                                            Name    Year\n",
       "0                                      Rock Band  2007.0\n",
       "1     Yu-Gi-Oh! 5D's Wheelie Breakers (JP sales)     NaN\n",
       "2    Jewel Link Chronicles: Mountains of Madness     NaN\n",
       "3             Majesty 2: The Fantasy Kingdom Sim  2009.0\n",
       "4                                     Famista 64  1997.0\n",
       "..                                           ...     ...\n",
       "266                                Freaky Flyers  2003.0\n",
       "267                               Space Invaders  2600.0\n",
       "268                                Madden NFL 11     NaN\n",
       "269                               Yoostar on MTV     NaN\n",
       "270                                  Bejeweled 3  2010.0\n",
       "\n",
       "[271 rows x 2 columns]"
      ]
     },
     "execution_count": 74,
     "metadata": {},
     "output_type": "execute_result"
    }
   ],
   "source": [
    "data\n"
   ]
  },
  {
   "cell_type": "code",
   "execution_count": 48,
   "metadata": {},
   "outputs": [],
   "source": []
  },
  {
   "cell_type": "code",
   "execution_count": 81,
   "metadata": {},
   "outputs": [
    {
     "name": "stderr",
     "output_type": "stream",
     "text": [
      "c:\\python37\\lib\\site-packages\\ipykernel_launcher.py:1: SettingWithCopyWarning: \n",
      "A value is trying to be set on a copy of a slice from a DataFrame\n",
      "\n",
      "See the caveats in the documentation: https://pandas.pydata.org/pandas-docs/stable/user_guide/indexing.html#returning-a-view-versus-a-copy\n",
      "  \"\"\"Entry point for launching an IPython kernel.\n"
     ]
    }
   ],
   "source": [
    "data['Year'][data[data['Year']==2600].index[0]] = np.nan"
   ]
  },
  {
   "cell_type": "code",
   "execution_count": 82,
   "metadata": {},
   "outputs": [
    {
     "data": {
      "text/html": [
       "<div>\n",
       "<style scoped>\n",
       "    .dataframe tbody tr th:only-of-type {\n",
       "        vertical-align: middle;\n",
       "    }\n",
       "\n",
       "    .dataframe tbody tr th {\n",
       "        vertical-align: top;\n",
       "    }\n",
       "\n",
       "    .dataframe thead th {\n",
       "        text-align: right;\n",
       "    }\n",
       "</style>\n",
       "<table border=\"1\" class=\"dataframe\">\n",
       "  <thead>\n",
       "    <tr style=\"text-align: right;\">\n",
       "      <th></th>\n",
       "      <th>Name</th>\n",
       "      <th>Year</th>\n",
       "    </tr>\n",
       "  </thead>\n",
       "  <tbody>\n",
       "  </tbody>\n",
       "</table>\n",
       "</div>"
      ],
      "text/plain": [
       "Empty DataFrame\n",
       "Columns: [Name, Year]\n",
       "Index: []"
      ]
     },
     "execution_count": 82,
     "metadata": {},
     "output_type": "execute_result"
    }
   ],
   "source": [
    "data[data['Year']==2600]"
   ]
  },
  {
   "cell_type": "code",
   "execution_count": null,
   "metadata": {},
   "outputs": [],
   "source": []
  }
 ],
 "metadata": {
  "kernelspec": {
   "display_name": "Python 3",
   "language": "python",
   "name": "python3"
  },
  "language_info": {
   "codemirror_mode": {
    "name": "ipython",
    "version": 3
   },
   "file_extension": ".py",
   "mimetype": "text/x-python",
   "name": "python",
   "nbconvert_exporter": "python",
   "pygments_lexer": "ipython3",
   "version": "3.7.7"
  }
 },
 "nbformat": 4,
 "nbformat_minor": 4
}
